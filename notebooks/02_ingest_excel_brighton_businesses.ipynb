{
 "cells": [
  {
   "cell_type": "markdown",
   "id": "954194b9-6eb8-42e2-b369-03c31b0494e1",
   "metadata": {},
   "source": [
    "# brighton and hove busines properties \n",
    "\n",
    "thanks to [adam dennett](https://adamdennett.co.uk), we have a dataset on the properties of local businesses ([see here](https://www.brighton-hove.gov.uk/business-and-trade/business-rates-information-city-businesses)).\n",
    "\n",
    "after fetching the most recent download of the local business data (true as of 2025-04) and placing in the data folder, this code is for reading, parsing, claening the data in that excel sheet and saving them as a table in the `duckdb` database.\n"
   ]
  },
  {
   "cell_type": "code",
   "execution_count": 1,
   "id": "99409af8-4833-4347-89a8-b39744f791ea",
   "metadata": {},
   "outputs": [],
   "source": [
    "import datetime\n",
    "import duckdb\n",
    "import numpy as np\n",
    "from openpyxl import load_workbook\n",
    "import pandas as pd\n",
    "import requests"
   ]
  },
  {
   "cell_type": "code",
   "execution_count": 2,
   "id": "da0b613a-4db0-4cf4-b3f4-9c00f79baa3f",
   "metadata": {},
   "outputs": [],
   "source": [
    "DATA_PATH = '../data/'\n",
    "PATH_TO_DB = DATA_PATH+'creatives.duckdb'\n",
    "PATH_TO_XCL = DATA_PATH+'excel/'                # input\n",
    "FILENAMES = [\n",
    "    'brighton_and_hove_business_information_2025_04.xlsx'\n",
    "]"
   ]
  },
  {
   "cell_type": "markdown",
   "id": "2d9d7bfd-895e-4dda-8de3-5b1971b6caa6",
   "metadata": {},
   "source": [
    "# file selection\n",
    "\n",
    "in this case there is only one relevant file to read in, parse, and ingest. "
   ]
  },
  {
   "cell_type": "code",
   "execution_count": 3,
   "id": "5a8551c1-af02-4101-81d2-ef78ffea8bfe",
   "metadata": {},
   "outputs": [
    {
     "name": "stdout",
     "output_type": "stream",
     "text": [
      "brighton_and_hove_business_information_2025_04 ../data/excel/brighton_and_hove_business_information_2025_04.xlsx\n"
     ]
    }
   ],
   "source": [
    "filename = FILENAMES[0]\n",
    "tablename = filename.split('.')[0]\n",
    "filepath = PATH_TO_XCL + FILENAMES[0]\n",
    "print(tablename, filepath)"
   ]
  },
  {
   "cell_type": "code",
   "execution_count": 4,
   "id": "0da0b0dc-d42c-4753-a404-e13d16081683",
   "metadata": {},
   "outputs": [
    {
     "name": "stdout",
     "output_type": "stream",
     "text": [
      "excel workbook brighton_and_hove_business_information_2025_04.xlsx contains the following sheet(s) ['bhn013_(NNDR_FOI_Extract)_Creat']\n"
     ]
    }
   ],
   "source": [
    "wb = load_workbook(filename = filepath)\n",
    "print('excel workbook', FILENAMES[0], 'contains the following sheet(s)', wb.sheetnames)"
   ]
  },
  {
   "cell_type": "markdown",
   "id": "55939b4c-1c98-4b0b-89df-b089d26cc49e",
   "metadata": {},
   "source": [
    "the workbooks contains a single sheet, with a somewhat obscure name."
   ]
  },
  {
   "cell_type": "code",
   "execution_count": 5,
   "id": "bae0dabd-e09a-4253-928d-3734365333fb",
   "metadata": {},
   "outputs": [
    {
     "data": {
      "text/plain": [
       "'bhn013_(NNDR_FOI_Extract)_Creat'"
      ]
     },
     "execution_count": 5,
     "metadata": {},
     "output_type": "execute_result"
    }
   ],
   "source": [
    "sheet = wb.active\n",
    "sheet.title"
   ]
  },
  {
   "cell_type": "code",
   "execution_count": 6,
   "id": "47740ffd-7693-4995-8417-c926652d2c20",
   "metadata": {},
   "outputs": [
    {
     "name": "stdout",
     "output_type": "stream",
     "text": [
      "determine the header row for sheet bhn013_(NNDR_FOI_Extract)_Creat\n",
      "43 columns: ['Property_Ref', 'VOA_Ref', 'UPRN', 'BID_Zone', 'Name', 'Trading_As', 'PropDescr', 'Property1', 'Property2', 'Property3', 'Property4', 'Property5', 'Property6', '2017_RV', '2023_RV', 'Acc_Start', 'Acc_End', 'Base_Chg', 'Transitional_Relief-Surcharge', 'Part_Occ', 'Charity_Relief', 'SBRR', 'Other_Relief', 'Mandatory_Charity', 'Mand_Char_Start', 'Discretionary_Charity', 'Disc_Char_Start', 'Top-up_Charity', 'Top-up_Char_Start', 'Small_Business_Rate_Relief', 'SBRR_Start', 'Supporting_Small_Businesses_Rel', 'SSB_Start', 'Retail_Discount', 'Ret_Discount_Start', 'Nursery_Relief', 'Nursery_Rel_Start', 'Public_Loo_Relief', 'Loo_Relief_Start', 'Exemption', 'Exemption_Start', 'Empty_Relief', 'Empty_Start']\n"
     ]
    }
   ],
   "source": [
    "sheet = wb.active\n",
    "print('determine the header row for sheet', sheet.title)\n",
    "# assume row 1 is header, and that column count < 26^2\n",
    "cell_range = sheet['A1':'ZZ1'] \n",
    "header_row = [[cell.value for cell in component if cell.value] for component in cell_range][0]\n",
    "num_columns = len(header_row)\n",
    "print(num_columns, 'columns:', header_row)"
   ]
  },
  {
   "cell_type": "markdown",
   "id": "cf1646a2-fa18-4495-bcd2-9e5738c4b4fe",
   "metadata": {},
   "source": [
    "note that some of the column names are inappropriate for a database table\n",
    "\n",
    "\n",
    "# prepare a dataframe\n",
    "next we set up a new dataframe to collect the table data into. all columns will be of data type str (pandas object) to begin with. then we will recast them. \n",
    "\n",
    "then we will read the excel file, one row at a time and populate the dataframe rows. this is a slow step and might take some time."
   ]
  },
  {
   "cell_type": "code",
   "execution_count": 7,
   "id": "e1a2b462-8be5-4364-a723-bc06fb8bae2f",
   "metadata": {},
   "outputs": [
    {
     "name": "stdout",
     "output_type": "stream",
     "text": [
      "CPU times: user 1min 52s, sys: 8.34 s, total: 2min\n",
      "Wall time: 2min 1s\n"
     ]
    }
   ],
   "source": [
    "%%time\n",
    "df = pd.DataFrame(columns=header_row) \n",
    "# append table, one row at a time\n",
    "for row in sheet.rows:\n",
    "    data_row = [element.value for element in row]\n",
    "    df.loc[len(df)] = data_row[:num_columns]"
   ]
  },
  {
   "cell_type": "markdown",
   "id": "f27cc4b2-3b29-49a0-8a29-d6843fd8d69a",
   "metadata": {},
   "source": [
    "since we added the header row to the dataframe as a data row, we might need to trip the dataframe's top row:"
   ]
  },
  {
   "cell_type": "code",
   "execution_count": 8,
   "id": "852afcb5-7097-4e52-88c3-043f1044aacd",
   "metadata": {},
   "outputs": [
    {
     "name": "stdout",
     "output_type": "stream",
     "text": [
      "need to trim top (header) row off the dataframe\n"
     ]
    }
   ],
   "source": [
    "if df['Property_Ref'][0]=='Property_Ref':\n",
    "    print('need to trim top (header) row off the dataframe')\n",
    "    df.drop(index=df.index[0], axis=0, inplace=True)"
   ]
  },
  {
   "cell_type": "markdown",
   "id": "1b2aa854-1c5b-4b6a-b5cd-b934c63471e4",
   "metadata": {},
   "source": [
    "# check contents of the dataframe\n",
    "a quick look into the dataframe's columns, types, and null occurrances."
   ]
  },
  {
   "cell_type": "code",
   "execution_count": 9,
   "id": "743b94c1-26c8-4c38-9419-acb4fb08789d",
   "metadata": {},
   "outputs": [
    {
     "name": "stdout",
     "output_type": "stream",
     "text": [
      "<class 'pandas.core.frame.DataFrame'>\n",
      "Index: 11164 entries, 1 to 11164\n",
      "Data columns (total 43 columns):\n",
      " #   Column                           Non-Null Count  Dtype \n",
      "---  ------                           --------------  ----- \n",
      " 0   Property_Ref                     11164 non-null  object\n",
      " 1   VOA_Ref                          11164 non-null  object\n",
      " 2   UPRN                             10752 non-null  object\n",
      " 3   BID_Zone                         457 non-null    object\n",
      " 4   Name                             7845 non-null   object\n",
      " 5   Trading_As                       90 non-null     object\n",
      " 6   PropDescr                        11164 non-null  object\n",
      " 7   Property1                        11164 non-null  object\n",
      " 8   Property2                        11164 non-null  object\n",
      " 9   Property3                        6867 non-null   object\n",
      " 10  Property4                        1823 non-null   object\n",
      " 11  Property5                        32 non-null     object\n",
      " 12  Property6                        11164 non-null  object\n",
      " 13  2017_RV                          11164 non-null  object\n",
      " 14  2023_RV                          11164 non-null  object\n",
      " 15  Acc_Start                        11164 non-null  object\n",
      " 16  Acc_End                          0 non-null      object\n",
      " 17  Base_Chg                         11164 non-null  object\n",
      " 18  Transitional_Relief-Surcharge    11164 non-null  object\n",
      " 19  Part_Occ                         11164 non-null  object\n",
      " 20  Charity_Relief                   11164 non-null  object\n",
      " 21  SBRR                             11164 non-null  object\n",
      " 22  Other_Relief                     11164 non-null  object\n",
      " 23  Mandatory_Charity                427 non-null    object\n",
      " 24  Mand_Char_Start                  427 non-null    object\n",
      " 25  Discretionary_Charity            29 non-null     object\n",
      " 26  Disc_Char_Start                  29 non-null     object\n",
      " 27  Top-up_Charity                   50 non-null     object\n",
      " 28  Top-up_Char_Start                50 non-null     object\n",
      " 29  Small_Business_Rate_Relief       4305 non-null   object\n",
      " 30  SBRR_Start                       4305 non-null   object\n",
      " 31  Supporting_Small_Businesses_Rel  427 non-null    object\n",
      " 32  SSB_Start                        427 non-null    object\n",
      " 33  Retail_Discount                  2426 non-null   object\n",
      " 34  Ret_Discount_Start               2426 non-null   object\n",
      " 35  Nursery_Relief                   0 non-null      object\n",
      " 36  Nursery_Rel_Start                0 non-null      object\n",
      " 37  Public_Loo_Relief                7 non-null      object\n",
      " 38  Loo_Relief_Start                 7 non-null      object\n",
      " 39  Exemption                        661 non-null    object\n",
      " 40  Exemption_Start                  723 non-null    object\n",
      " 41  Empty_Relief                     440 non-null    object\n",
      " 42  Empty_Start                      440 non-null    object\n",
      "dtypes: object(43)\n",
      "memory usage: 3.7+ MB\n"
     ]
    }
   ],
   "source": [
    "df.info()"
   ]
  },
  {
   "cell_type": "markdown",
   "id": "5f1521cd-d613-4ca4-9174-85344d2397f7",
   "metadata": {},
   "source": [
    "# data cleaning and data type casting"
   ]
  },
  {
   "cell_type": "code",
   "execution_count": 10,
   "id": "1f805b30-ded9-490c-bafd-227e8abd1125",
   "metadata": {},
   "outputs": [],
   "source": [
    "df = \\\n",
    "(\n",
    "    df\n",
    "    .assign(base_charge        = pd.to_numeric(df['Base_Chg']))  # float, monitary values\n",
    "    .assign(uprn = pd.to_numeric(\n",
    "        df['UPRN']\n",
    "            .replace([np.inf, -np.inf], np.nan)\n",
    "            .fillna('0'),\n",
    "        downcast='integer',\n",
    "        errors='coerce')\n",
    "    )                                                            # integer id number\n",
    "    .assign(rv_2017 = pd.to_numeric(\n",
    "        df['2017_RV']\n",
    "            .replace([np.inf, -np.inf], np.nan)\n",
    "            .fillna('0'),\n",
    "        downcast='integer',\n",
    "        errors='coerce')\n",
    "    )\n",
    "    .assign(rv_2023 = pd.to_numeric(\n",
    "        df['2023_RV']\n",
    "            .replace([np.inf, -np.inf], np.nan)\n",
    "            .fillna('0'),\n",
    "        downcast='integer',\n",
    "        errors='coerce')\n",
    "    )\n",
    "    .assign(charity_relief     = pd.to_numeric(\n",
    "        df['Charity_Relief']\n",
    "            .replace([np.inf,-np.inf], np.nan)\n",
    "            .fillna('0'),\n",
    "        downcast='integer',\n",
    "        errors='coerce')\n",
    "    )\n",
    "    .assign(sbrr = pd.to_numeric(\n",
    "        df['SBRR']\n",
    "            .replace([np.inf,-np.inf], np.nan)\n",
    "            .fillna('0'),\n",
    "        downcast='integer',\n",
    "        errors='coerce')\n",
    "    )\n",
    "    .assign(\n",
    "        transitional_relief_surcharge=pd.to_numeric(\n",
    "            df['Transitional_Relief-Surcharge'])\n",
    "    )\n",
    "    # datetime fields\n",
    "    .assign(acc_start          = pd.to_datetime(df['Acc_Start']))          # \n",
    "    .assign(acc_end            = pd.to_datetime(df['Acc_End']))            # \n",
    "    .assign(sbrr_start         = pd.to_datetime(df['SBRR_Start']))         # \n",
    "    .assign(ssb_start          = pd.to_datetime(df['SSB_Start']))          # \n",
    "    .assign(mand_char_start    = pd.to_datetime(df['Mand_Char_Start']))    # \n",
    "    .assign(disc_char_start    = pd.to_datetime(df['Disc_Char_Start']))    # \n",
    "    .assign(ret_discount_start = pd.to_datetime(df['Ret_Discount_Start'])) # \n",
    "    .assign(top_up_char_start  = pd.to_datetime(df['Top-up_Char_Start']))  # \n",
    "    .assign(nursery_rel_start  = pd.to_datetime(df['Nursery_Rel_Start']))  # \n",
    "    .assign(loo_relief_start   = pd.to_datetime(df['Loo_Relief_Start']))   # \n",
    "    .assign(exemption_start    = pd.to_datetime(df['Exemption_Start']))    # \n",
    "    .assign(empty_start        = pd.to_datetime(df['Empty_Start']))        # \n",
    "    # clean up. drop useless and redundant fields.\n",
    "    .drop(\n",
    "        columns=[\n",
    "            'UPRN',\n",
    "            '2017_RV',\n",
    "            '2023_RV',\n",
    "            'Mand_Char_Start',\n",
    "            'Acc_Start',\n",
    "            'Acc_End',\n",
    "            'SBRR_Start',\n",
    "            'SSB_Start',\n",
    "            'Ret_Discount_Start',\n",
    "            'Exemption_Start',\n",
    "            'Empty_Start',\n",
    "            'Base_Chg',\n",
    "            'Charity_Relief',\n",
    "            'SBRR',\n",
    "            'Transitional_Relief-Surcharge',            \n",
    "        ]\n",
    "    )\n",
    "    # the rest of the columns: ensure their names are database friendly:\n",
    "    .rename(columns=\n",
    "        {\n",
    "            'Property_Ref':'property_ref', \n",
    "            'VOA_Ref':'voa_ref',\n",
    "            'BID_Zone':'bid_zone',\n",
    "            'Name':'name',\n",
    "            'Trading_As':'trading_as',\n",
    "            'PropDescr':'propdescr',\n",
    "            'Property1':'property_1',\n",
    "            'Property2':'property_2',\n",
    "            'Property3':'property_3',\n",
    "            'Property4':'property_4',\n",
    "            'Property5':'property_5',\n",
    "            'Property6':'property_6',\n",
    "            'Part_Occ':'part_occ',\n",
    "            'Other_Relief':'other_relief',\n",
    "            'Mandatory_Charity':'mandatory_charity',\n",
    "            'Discretionary_Charity':'discretionary_charity',\n",
    "            'Top-up_Charity':'top_up_charity',\n",
    "            'Small_Business_Rate_Relief':'small_business_rate_relief',\n",
    "            'Supporting_Small_Businesses_Rel':'supporting_small_business_rel',\n",
    "            'Retail_Discount':'retail_discount',\n",
    "            'Nursery_Relief':'nursery_relief',\n",
    "            'Public_Loo_Relief':'public_loo_relief',\n",
    "            'Exemption':'exemption',\n",
    "            'Empty_Relief':'empty_relief'\n",
    "        }\n",
    "    )\n",
    ")"
   ]
  },
  {
   "cell_type": "code",
   "execution_count": 11,
   "id": "bea2c646-b9f1-4f7e-afda-1709b11fecee",
   "metadata": {},
   "outputs": [
    {
     "name": "stdout",
     "output_type": "stream",
     "text": [
      "<class 'pandas.core.frame.DataFrame'>\n",
      "Index: 11164 entries, 1 to 11164\n",
      "Data columns (total 47 columns):\n",
      " #   Column                         Non-Null Count  Dtype         \n",
      "---  ------                         --------------  -----         \n",
      " 0   property_ref                   11164 non-null  object        \n",
      " 1   voa_ref                        11164 non-null  object        \n",
      " 2   bid_zone                       457 non-null    object        \n",
      " 3   name                           7845 non-null   object        \n",
      " 4   trading_as                     90 non-null     object        \n",
      " 5   propdescr                      11164 non-null  object        \n",
      " 6   property_1                     11164 non-null  object        \n",
      " 7   property_2                     11164 non-null  object        \n",
      " 8   property_3                     6867 non-null   object        \n",
      " 9   property_4                     1823 non-null   object        \n",
      " 10  property_5                     32 non-null     object        \n",
      " 11  property_6                     11164 non-null  object        \n",
      " 12  part_occ                       11164 non-null  object        \n",
      " 13  other_relief                   11164 non-null  object        \n",
      " 14  mandatory_charity              427 non-null    object        \n",
      " 15  discretionary_charity          29 non-null     object        \n",
      " 16  Disc_Char_Start                29 non-null     object        \n",
      " 17  top_up_charity                 50 non-null     object        \n",
      " 18  Top-up_Char_Start              50 non-null     object        \n",
      " 19  small_business_rate_relief     4305 non-null   object        \n",
      " 20  supporting_small_business_rel  427 non-null    object        \n",
      " 21  retail_discount                2426 non-null   object        \n",
      " 22  nursery_relief                 0 non-null      object        \n",
      " 23  Nursery_Rel_Start              0 non-null      object        \n",
      " 24  public_loo_relief              7 non-null      object        \n",
      " 25  Loo_Relief_Start               7 non-null      object        \n",
      " 26  exemption                      661 non-null    object        \n",
      " 27  empty_relief                   440 non-null    object        \n",
      " 28  base_charge                    11164 non-null  float64       \n",
      " 29  uprn                           11164 non-null  int32         \n",
      " 30  rv_2017                        11164 non-null  int32         \n",
      " 31  rv_2023                        11164 non-null  int32         \n",
      " 32  charity_relief                 11164 non-null  float64       \n",
      " 33  sbrr                           11164 non-null  float64       \n",
      " 34  transitional_relief_surcharge  11164 non-null  float64       \n",
      " 35  acc_start                      11164 non-null  datetime64[ns]\n",
      " 36  acc_end                        0 non-null      datetime64[ns]\n",
      " 37  sbrr_start                     4305 non-null   datetime64[ns]\n",
      " 38  ssb_start                      427 non-null    datetime64[ns]\n",
      " 39  mand_char_start                427 non-null    datetime64[ns]\n",
      " 40  disc_char_start                29 non-null     datetime64[ns]\n",
      " 41  ret_discount_start             2426 non-null   datetime64[ns]\n",
      " 42  top_up_char_start              50 non-null     datetime64[ns]\n",
      " 43  nursery_rel_start              0 non-null      datetime64[ns]\n",
      " 44  loo_relief_start               7 non-null      datetime64[ns]\n",
      " 45  exemption_start                723 non-null    datetime64[ns]\n",
      " 46  empty_start                    440 non-null    datetime64[ns]\n",
      "dtypes: datetime64[ns](12), float64(4), int32(3), object(28)\n",
      "memory usage: 4.0+ MB\n"
     ]
    }
   ],
   "source": [
    "df.info()"
   ]
  },
  {
   "cell_type": "code",
   "execution_count": 12,
   "id": "957ebafb-a5f7-4a11-9630-145923cf478f",
   "metadata": {},
   "outputs": [],
   "source": [
    "with duckdb.connect(database=PATH_TO_DB, read_only=False) as con:\n",
    "    con.sql(f\"DROP TABLE IF EXISTS {tablename};\")\n",
    "    con.sql(f\"CREATE TABLE {tablename} AS SELECT * FROM df;\")\n",
    "    con.sql(f\"SELECT COUNT(*) FROM {tablename};\")"
   ]
  },
  {
   "cell_type": "code",
   "execution_count": null,
   "id": "1b9f3f7e-0c3a-4e1e-b450-a08e9e2cc458",
   "metadata": {},
   "outputs": [],
   "source": []
  }
 ],
 "metadata": {
  "kernelspec": {
   "display_name": "Python 3 (ipykernel)",
   "language": "python",
   "name": "python3"
  },
  "language_info": {
   "codemirror_mode": {
    "name": "ipython",
    "version": 3
   },
   "file_extension": ".py",
   "mimetype": "text/x-python",
   "name": "python",
   "nbconvert_exporter": "python",
   "pygments_lexer": "ipython3",
   "version": "3.8.18"
  }
 },
 "nbformat": 4,
 "nbformat_minor": 5
}
