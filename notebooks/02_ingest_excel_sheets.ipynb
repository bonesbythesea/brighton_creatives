{
 "cells": [
  {
   "cell_type": "code",
   "execution_count": 24,
   "id": "99409af8-4833-4347-89a8-b39744f791ea",
   "metadata": {},
   "outputs": [],
   "source": [
    "from bs4 import BeautifulSoup\n",
    "import chardet\n",
    "import datetime\n",
    "import duckdb\n",
    "import io\n",
    "from openpyxl import load_workbook\n",
    "from openpyxl import load_workbook\n",
    "import pandas as pd\n",
    "import requests\n",
    "import xlrd"
   ]
  },
  {
   "cell_type": "code",
   "execution_count": 25,
   "id": "da0b613a-4db0-4cf4-b3f4-9c00f79baa3f",
   "metadata": {},
   "outputs": [],
   "source": [
    "DATA_PATH = '../data/'\n",
    "PATH_TO_DB = DATA_PATH+'creatives.duckdb'\n",
    "\n",
    "PATH_TO_XCL = DATA_PATH+'excel/'                # input\n",
    "FILENAMES = [\n",
    "    \"10340624.xls\", \n",
    "    \"9850822.xls\", \n",
    "    \"ah301.xls\", \n",
    "    \"ah984.xls\", \n",
    "    \"ahmt2.xls\"\n",
    "]\n",
    "\n",
    "FILENAMES_X = [\n",
    "    \"230724creativejobsfinaltables.xlsx\",\n",
    "    \"ah1402.xlsx\",\n",
    "    \"jobqualitycreativesubsectorscounts20212022.xlsx\",\n",
    "    \"keyworkersinbrightonandhoveeastsussexandwestsussex2019.xlsx\",\n",
    "    \"secreative copy.xlsx\",\n",
    "    \"secreative.xlsx\",\n",
    "    \"table12021r.xlsx\",\n",
    "    \"table12023p.xlsx\",\n",
    "    \"table1cvs2021p.xlsx\",\n",
    "    \"table1cvs2022p.xlsx\",\n",
    "    \"table1cvs2022r.xlsx\",\n",
    "    \"table1cvs2023p.xlsx\",\n",
    "    \"table32023p.xlsx\",\n",
    "    \"table3cvs2023p.xlsx\",\n",
    "]"
   ]
  },
  {
   "cell_type": "code",
   "execution_count": 10,
   "id": "5a8551c1-af02-4101-81d2-ef78ffea8bfe",
   "metadata": {},
   "outputs": [
    {
     "data": {
      "text/plain": [
       "'../data/excel/10340624.xls'"
      ]
     },
     "execution_count": 10,
     "metadata": {},
     "output_type": "execute_result"
    }
   ],
   "source": [
    "filepath = PATH_TO_XCL + FILENAMES[0]\n",
    "filepath"
   ]
  },
  {
   "cell_type": "code",
   "execution_count": 12,
   "id": "47740ffd-7693-4995-8417-c926652d2c20",
   "metadata": {},
   "outputs": [
    {
     "name": "stdout",
     "output_type": "stream",
     "text": [
      "The number of worksheets is 20\n",
      "Worksheet name(s): ['Metadata', 'Analysis 1', 'Analysis 2', 'Analysis 3', 'Analysis 4', 'Analysis 5', 'Analysis 6', ' 2014 Creative', '2014 Cultural', '2015 Creative', '2015 Cultural', '2016 Creative', '2016 Cultural', '2017 Creative', '2017 Cultural', ' 2018 Creative', '2018 Cultural', '2019 Creative', '2019 Cultural', 'Industry Definitions']\n"
     ]
    }
   ],
   "source": [
    "book = xlrd.open_workbook(filepath)\n",
    "print(\"The number of worksheets is {0}\".format(book.nsheets))\n",
    "print(\"Worksheet name(s): {0}\".format(book.sheet_names()))"
   ]
  },
  {
   "cell_type": "code",
   "execution_count": 22,
   "id": "bea2c646-b9f1-4f7e-afda-1709b11fecee",
   "metadata": {},
   "outputs": [
    {
     "name": "stdout",
     "output_type": "stream",
     "text": [
      "title: Analysis based on BUSINESS DEMOGRAPHY - 2022\n",
      "description: Enterprise Births, Deaths and Survivals\n",
      "description: Active\n"
     ]
    }
   ],
   "source": [
    "print(\"title: {0}\".format(metadata_sh.cell_value(rowx=1, colx=3)))\n",
    "print(\"description: {0}\".format(metadata_sh.cell_value(rowx=2, colx=3)))\n",
    "print(\"description: {0}\".format(metadata_sh.cell_value(rowx=6, colx=2)))"
   ]
  },
  {
   "cell_type": "code",
   "execution_count": 19,
   "id": "957ebafb-a5f7-4a11-9630-145923cf478f",
   "metadata": {},
   "outputs": [
    {
     "name": "stdout",
     "output_type": "stream",
     "text": [
      "sheet: Metadata has 4 columns and 44 rows\n",
      "top left cell \n",
      "[empty:'', empty:'', empty:'', empty:'']\n",
      "[empty:'', empty:'', empty:'', text:'Analysis based on BUSINESS DEMOGRAPHY - 2022']\n",
      "[empty:'', empty:'', empty:'', text:'Enterprise Births, Deaths and Survivals']\n",
      "[empty:'', empty:'', empty:'', empty:'']\n",
      "[empty:'', empty:'', empty:'', empty:'']\n",
      "[empty:'', empty:'', empty:'', empty:'']\n",
      "[empty:'', text:'Notes:', text:'Active', empty:'']\n",
      "[empty:'', empty:'', text:'The starting point for demography is the concept of a population of active businesses in a reference year (t).  These are defined as businesses that had either turnover or employment at any time during the reference period.', empty:'']\n",
      "[empty:'', empty:'', text:'Births and deaths are then identified by comparing active populations for different years.', empty:'']\n",
      "[empty:'', empty:'', empty:'', empty:'']\n",
      "[empty:'', empty:'', text:'Births', empty:'']\n",
      "[empty:'', empty:'', text:'A birth is identified as a business that was present in year t, but did not exist in year t-1 or t-2.  Births are identified by making comparison of annual active population files and identifying those present in the latest file, but not the two previous ones.', empty:'']\n",
      "[empty:'', empty:'', empty:'', empty:'']\n",
      "[empty:'', empty:'', text:'Deaths', empty:'']\n",
      "[empty:'', empty:'', text:'A death is defined as a business that was on the active file in year t, but was no longer present in the active file in t+1 and t+2.  In order to provide an early estimate of deaths, an adjustment has been made to the latest two years deaths to allow for reactivations.  These figures are provisional and subject to revision.', empty:'']\n",
      "[empty:'', empty:'', empty:'', empty:'']\n",
      "[empty:'', empty:'', text:'Survival', empty:'']\n",
      "[empty:'', empty:'', text:'A business is deemed to have survived if having been a birth in year t or having survived to year t; it is active in terms of employment and/or turnover in any part of t+1', empty:'']\n",
      "[empty:'', empty:'', empty:'', empty:'']\n",
      "[empty:'', empty:'', empty:'', empty:'']\n",
      "[empty:'', empty:'', text:'Disclosure Control', empty:'']\n",
      "[empty:'', empty:'', text:'The confidentiality of all data held on the IDBR is protected by the National Statistics Code of Practice and associated Protocols and by specific legislation.  The disclosure of data relating to individual undertakings without consent is prohibited under the Statistics of Trade Act 1947, the Value Added Tax Act 1994 and the Finance Act 1969. In accordance with these requirements, data presented in this release have been rounded to prevent disclosure.  Differences may exist in totals across tables due to disclosure methods used.', empty:'']\n",
      "[empty:'', empty:'', empty:'', empty:'']\n",
      "[empty:'', empty:'', empty:'', empty:'']\n",
      "[empty:'', empty:'', text:'Classification', empty:'']\n",
      "[empty:'', empty:'', text:'As a result of the introduction of the 2007 Standard Industrial Classification (UKSIC(2007)), from 2008 information has been coded on that basis', empty:'']\n",
      "[empty:'', empty:'', empty:'', empty:'']\n",
      "[empty:'', empty:'', text:'Information relating to years prior to 2008 continue to use the 2003 revision to the Standard Industrial Classification (UKSIC(2003))', empty:'']\n",
      "[empty:'', empty:'', empty:'', empty:'']\n",
      "[empty:'', empty:'', empty:'', empty:'']\n",
      "[empty:'', empty:'', text:'Geography', empty:'']\n",
      "[empty:'', empty:'', text:'Information for 2009 and 2010 broken down by District, Counties and Unitary Authorities include totals for the seven new Unitary Authorities introduced in April 2009.', empty:'']\n",
      "[empty:'', empty:'', empty:'', empty:'']\n",
      "[empty:'', empty:'', empty:'', empty:'']\n",
      "[empty:'', empty:'', text:'Contact', empty:'']\n",
      "[empty:'', empty:'', empty:'', empty:'']\n",
      "[empty:'', empty:'', text:'IDBR DAS', empty:'']\n",
      "[empty:'', empty:'', text:'Business Registers Strategy & Outputs', empty:'']\n",
      "[empty:'', empty:'', text:'Government Buildings', empty:'']\n",
      "[empty:'', empty:'', text:'Cardiff Road', empty:'']\n",
      "[empty:'', empty:'', text:'Newport', empty:'']\n",
      "[empty:'', empty:'', text:'NP10 8XG', empty:'']\n",
      "[empty:'', empty:'', text:'Tel: +44 (0) 1633 456902', empty:'']\n",
      "[empty:'', empty:'', text:'Email: IDBRDAS@ons.gov.uk', empty:'']\n"
     ]
    }
   ],
   "source": [
    "metadata_sh = book.sheet_by_index(0)\n",
    "print(\"sheet: {0} has {1} columns and {2} rows\".format(metadata_sh.name, metadata_sh.ncols, metadata_sh.nrows))\n",
    "print(\"top left cell: {0}\".format(metadata_sh.cell_value(rowx=0, colx=0)))\n",
    "\n",
    "for rx in range(metadata_sh.nrows):\n",
    "    print(metadata_sh.row(rx))"
   ]
  },
  {
   "cell_type": "code",
   "execution_count": 26,
   "id": "f9b3ef01-bdee-4911-8c00-8bb36db203df",
   "metadata": {},
   "outputs": [
    {
     "data": {
      "text/plain": [
       "'../data/excel/230724creativejobsfinaltables.xlsx'"
      ]
     },
     "execution_count": 26,
     "metadata": {},
     "output_type": "execute_result"
    }
   ],
   "source": [
    "filepath = PATH_TO_XCL + FILENAMES_X[0]\n",
    "filepath"
   ]
  },
  {
   "cell_type": "code",
   "execution_count": 29,
   "id": "8b6233d1-647b-46f4-9c62-580a3fd57a78",
   "metadata": {},
   "outputs": [
    {
     "name": "stdout",
     "output_type": "stream",
     "text": [
      "Notes\n",
      "Industry_classification\n",
      "Contents\n",
      "1\n",
      "2\n",
      "3\n",
      "4\n",
      "5\n",
      "6\n",
      "7\n",
      "8\n",
      "9\n",
      "10\n",
      "11\n",
      "12\n",
      "13\n"
     ]
    }
   ],
   "source": [
    "wb = load_workbook(filename = filepath)\n",
    "for sheet in wb:\n",
    "    print(sheet.title)"
   ]
  },
  {
   "cell_type": "code",
   "execution_count": 32,
   "id": "d1c4028e-5f65-47c5-b726-c95bfaec6e68",
   "metadata": {},
   "outputs": [
    {
     "name": "stdout",
     "output_type": "stream",
     "text": [
      "Data requested by:\n",
      "South Yorkshire Combined Authority\n"
     ]
    }
   ],
   "source": [
    "sheet_ranges = wb['Notes']\n",
    "print(sheet_ranges['A1'].value)\n",
    "print(sheet_ranges['B1'].value)"
   ]
  },
  {
   "cell_type": "code",
   "execution_count": null,
   "id": "1b9f3f7e-0c3a-4e1e-b450-a08e9e2cc458",
   "metadata": {},
   "outputs": [],
   "source": []
  }
 ],
 "metadata": {
  "kernelspec": {
   "display_name": "Python 3 (ipykernel)",
   "language": "python",
   "name": "python3"
  },
  "language_info": {
   "codemirror_mode": {
    "name": "ipython",
    "version": 3
   },
   "file_extension": ".py",
   "mimetype": "text/x-python",
   "name": "python",
   "nbconvert_exporter": "python",
   "pygments_lexer": "ipython3",
   "version": "3.8.18"
  }
 },
 "nbformat": 4,
 "nbformat_minor": 5
}
